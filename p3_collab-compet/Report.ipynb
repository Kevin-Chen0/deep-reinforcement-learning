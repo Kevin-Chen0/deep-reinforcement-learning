{
 "cells": [
  {
   "cell_type": "markdown",
   "metadata": {},
   "source": [
    "# Collaboration and Competition\n",
    "\n",
    "---\n",
    "\n",
    "In this notebook, you will learn how to use the Unity ML-Agents environment for the third project of the [Deep Reinforcement Learning Nanodegree](https://www.udacity.com/course/deep-reinforcement-learning-nanodegree--nd893) program.\n",
    "\n",
    "### 1. Start the Environment\n",
    "\n",
    "We begin by importing the necessary packages.  If the code cell below returns an error, please revisit the project instructions to double-check that you have installed [Unity ML-Agents](https://github.com/Unity-Technologies/ml-agents/blob/master/docs/Installation.md) and [NumPy](http://www.numpy.org/)."
   ]
  },
  {
   "cell_type": "code",
   "execution_count": 1,
   "metadata": {},
   "outputs": [],
   "source": [
    "import torch\n",
    "import numpy as np\n",
    "import pandas as pd\n",
    "from collections import deque\n",
    "import matplotlib.pyplot as plt\n",
    "from unityagents import UnityEnvironment"
   ]
  },
  {
   "cell_type": "markdown",
   "metadata": {},
   "source": [
    "Next, we will start the environment!  **_Before running the code cell below_**, change the `file_name` parameter to match the location of the Unity environment that you downloaded.\n",
    "\n",
    "- **Mac**: `\"path/to/Tennis.app\"`\n",
    "- **Windows** (x86): `\"path/to/Tennis_Windows_x86/Tennis.exe\"`\n",
    "- **Windows** (x86_64): `\"path/to/Tennis_Windows_x86_64/Tennis.exe\"`\n",
    "- **Linux** (x86): `\"path/to/Tennis_Linux/Tennis.x86\"`\n",
    "- **Linux** (x86_64): `\"path/to/Tennis_Linux/Tennis.x86_64\"`\n",
    "- **Linux** (x86, headless): `\"path/to/Tennis_Linux_NoVis/Tennis.x86\"`\n",
    "- **Linux** (x86_64, headless): `\"path/to/Tennis_Linux_NoVis/Tennis.x86_64\"`\n",
    "\n",
    "For instance, if you are using a Mac, then you downloaded `Tennis.app`.  If this file is in the same folder as the notebook, then the line below should appear as follows:\n",
    "```\n",
    "env = UnityEnvironment(file_name=\"Tennis.app\")\n",
    "```"
   ]
  },
  {
   "cell_type": "code",
   "execution_count": 2,
   "metadata": {},
   "outputs": [
    {
     "name": "stderr",
     "output_type": "stream",
     "text": [
      "INFO:unityagents:\n",
      "'Academy' started successfully!\n",
      "Unity Academy name: Academy\n",
      "        Number of Brains: 1\n",
      "        Number of External Brains : 1\n",
      "        Lesson number : 0\n",
      "        Reset Parameters :\n",
      "\t\t\n",
      "Unity brain name: TennisBrain\n",
      "        Number of Visual Observations (per agent): 0\n",
      "        Vector Observation space type: continuous\n",
      "        Vector Observation space size (per agent): 8\n",
      "        Number of stacked Vector Observation: 3\n",
      "        Vector Action space type: continuous\n",
      "        Vector Action space size (per agent): 2\n",
      "        Vector Action descriptions: , \n"
     ]
    }
   ],
   "source": [
    "env = UnityEnvironment(file_name=\"Tennis_Linux_NoVis/Tennis.x86_64\")"
   ]
  },
  {
   "cell_type": "markdown",
   "metadata": {},
   "source": [
    "Environments contain **_brains_** which are responsible for deciding the actions of their associated agents. Here we check for the first brain available, and set it as the default brain we will be controlling from Python."
   ]
  },
  {
   "cell_type": "code",
   "execution_count": 3,
   "metadata": {},
   "outputs": [],
   "source": [
    "# get the default brain\n",
    "brain_name = env.brain_names[0]\n",
    "brain = env.brains[brain_name]"
   ]
  },
  {
   "cell_type": "markdown",
   "metadata": {},
   "source": [
    "### 2. Examine the State and Action Spaces\n",
    "\n",
    "In this environment, two agents control rackets to bounce a ball over a net. If an agent hits the ball over the net, it receives a reward of +0.1.  If an agent lets a ball hit the ground or hits the ball out of bounds, it receives a reward of -0.01.  Thus, the goal of each agent is to keep the ball in play.\n",
    "\n",
    "The observation space consists of 8 variables corresponding to the position and velocity of the ball and racket. Two continuous actions are available, corresponding to movement toward (or away from) the net, and jumping. \n",
    "\n",
    "Run the code cell below to print some information about the environment."
   ]
  },
  {
   "cell_type": "code",
   "execution_count": 4,
   "metadata": {},
   "outputs": [
    {
     "name": "stdout",
     "output_type": "stream",
     "text": [
      "Number of agents: 2\n",
      "Size of each action: 2\n",
      "There are 2 agents. Each observes a state with length: 24\n",
      "The state for the first agent looks like: [ 0.          0.          0.          0.          0.          0.\n",
      "  0.          0.          0.          0.          0.          0.\n",
      "  0.          0.          0.          0.         -6.65278625 -1.5\n",
      " -0.          0.          6.83172083  6.         -0.          0.        ]\n"
     ]
    }
   ],
   "source": [
    "# reset the environment\n",
    "env_info = env.reset(train_mode=True)[brain_name]\n",
    "\n",
    "# number of agents \n",
    "num_agents = len(env_info.agents)\n",
    "print('Number of agents:', num_agents)\n",
    "\n",
    "# size of each action\n",
    "action_size = brain.vector_action_space_size\n",
    "print('Size of each action:', action_size)\n",
    "\n",
    "# examine the state space \n",
    "states = env_info.vector_observations\n",
    "state_size = states.shape[1]\n",
    "print('There are {} agents. Each observes a state with length: {}'.format(states.shape[0], state_size))\n",
    "print('The state for the first agent looks like:', states[0])"
   ]
  },
  {
   "cell_type": "markdown",
   "metadata": {},
   "source": [
    "### 3. Take Random Actions in the Environment\n",
    "\n",
    "In the next code cell, you will learn how to use the Python API to control the agents and receive feedback from the environment.\n",
    "\n",
    "Once this cell is executed, you will watch the agents' performance, if they select actions at random with each time step.  A window should pop up that allows you to observe the agents.\n",
    "\n",
    "Of course, as part of the project, you'll have to change the code so that the agents are able to use their experiences to gradually choose better actions when interacting with the environment!"
   ]
  },
  {
   "cell_type": "code",
   "execution_count": 5,
   "metadata": {},
   "outputs": [
    {
     "name": "stdout",
     "output_type": "stream",
     "text": [
      "Score (max over agents) from episode 1: 0.09000000171363354\n",
      "Score (max over agents) from episode 2: 0.09000000171363354\n",
      "Score (max over agents) from episode 3: 0.0\n",
      "Score (max over agents) from episode 4: 0.09000000171363354\n",
      "Score (max over agents) from episode 5: 0.0\n"
     ]
    }
   ],
   "source": [
    "for i in range(1, 6):                                      # play game for 5 episodes\n",
    "    env_info = env.reset(train_mode=False)[brain_name]     # reset the environment    \n",
    "    states = env_info.vector_observations                  # get the current state (for each agent)\n",
    "    scores = np.zeros(num_agents)                          # initialize the score (for each agent)\n",
    "    while True:\n",
    "        actions = np.random.randn(num_agents, action_size) # select an action (for each agent)\n",
    "        actions = np.clip(actions, -1, 1)                  # all actions between -1 and 1\n",
    "        env_info = env.step(actions)[brain_name]           # send all actions to tne environment\n",
    "        next_states = env_info.vector_observations         # get next state (for each agent)\n",
    "        rewards = env_info.rewards                         # get reward (for each agent)\n",
    "        dones = env_info.local_done                        # see if episode finished\n",
    "        scores += env_info.rewards                         # update the score (for each agent)\n",
    "        states = next_states                               # roll over states to next time step\n",
    "        if np.any(dones):                                  # exit loop if episode finished\n",
    "            break\n",
    "    print('Score (max over agents) from episode {}: {}'.format(i, np.max(scores)))"
   ]
  },
  {
   "cell_type": "markdown",
   "metadata": {},
   "source": [
    "When finished, you can close the environment."
   ]
  },
  {
   "cell_type": "code",
   "execution_count": 10,
   "metadata": {},
   "outputs": [],
   "source": [
    "env.close()"
   ]
  },
  {
   "cell_type": "markdown",
   "metadata": {},
   "source": [
    "### 4. It's Your Turn!\n",
    "\n",
    "Now it's your turn to train your own agent to solve the environment!  When training the environment, set `train_mode=True`, so that the line for resetting the environment looks like the following:\n",
    "```python\n",
    "env_info = env.reset(train_mode=True)[brain_name]\n",
    "```"
   ]
  },
  {
   "cell_type": "markdown",
   "metadata": {},
   "source": [
    "***Goal:*** Based on the rubric, the agents must get an average award of +0.5 in over 100 consecutive episodes, after taking the maximum over both agents."
   ]
  },
  {
   "cell_type": "markdown",
   "metadata": {},
   "source": [
    "### 5. Learning Algorithm Training Description\n",
    "***Overview:***\n",
    "\n",
    "The agent uses a standard ***Multi-Agent Deep Deterministic Policy Gradient (MADDPG)*** model with two DDPG agent, each agent containing Experience Replay and fixed Q-Targets. DDPG is a deterministic and off-policy variation of an Actor-Critic method, and closely connected with to DQN. The Actors of the DDPG agents in MADDPG follow the same algo as Actor of standalone DDPG agent: taking a deterministic action that it thinks can maximize state-action value. However, what makes MADDPG quite interesting is that each and every DPPG Critic has access to ***all*** DPPG Actors' action decisions in MADDPG, known as the *centralized action-value function*, and not just the Actor within its own agent. Agents will still most likely finalize on diverse policies from each other due their differing *observations*, such as their respective locations in the env. Nevertheless, this level of omnipotency allows agent Critics to absorb policies from other agents during training, enabling agents to create *policy ensembles* leading to more robust performance in originally non-stationary environment, if the agents are blinded from each others' action. This is especially fruitful in coorperative scenarios, where the agents need to communicate and work together in order to achieve even higher scores individually. After training and during actual deployment, the agents will of course lose this omnipotency as their Actors will be operating and learning individually in the env, and can only access their own policies.\n",
    "\n",
    "Source: https://papers.nips.cc/paper/7217-multi-agent-actor-critic-for-mixed-cooperative-competitive-environments.pdf"
   ]
  },
  {
   "cell_type": "markdown",
   "metadata": {},
   "source": [
    "***Model Description:***\n",
    "\n",
    "My MADDPG contains 2 DDPG agents, the number of agents provided by the Tennis end. For each DDPG, both Actor and Critic (as well as their respective local and target networks) have two hidden layers, with first one (fc1) having 512 units and second one (fc2) having 256 units. I am additionally using Leaky ReLu rather than ReLu to prevent neurons from getting \"stuck\" due to 0 values. Finally, I have removed the OUNoise as it interferes too much MADDPG, which is already sensitive enough."
   ]
  },
  {
   "cell_type": "markdown",
   "metadata": {},
   "source": [
    "* `BUFFER_SIZE` = 100000 (1e6)\n",
    "* `BATCH_SIZE` = 512\n",
    "* `GAMMA` = 0.99\n",
    "* `TAU` = 0.01\n",
    "* `LR_ACTOR` = 0.0002  (learning rate of actor) \n",
    "* `LR_CRITIC` = 0.0002 (learning rate of critic)\n",
    "* `WEIGHT_DECAY` = 0   (L2) \n",
    "* `UPDATE_EVERY` = 2\n",
    "* `UPDATE_AMOUNT` = 1"
   ]
  },
  {
   "cell_type": "code",
   "execution_count": 6,
   "metadata": {},
   "outputs": [],
   "source": [
    "from maddpg_agent import MADDPG\n",
    "agents = MADDPG(num_agents=num_agents, state_size=state_size,\n",
    "                                       action_size=action_size, random_seed=2)"
   ]
  },
  {
   "cell_type": "code",
   "execution_count": 7,
   "metadata": {},
   "outputs": [],
   "source": [
    "def train(n_episodes=100, max_t=1000):\n",
    "    \"\"\"Multi-Agent Deep Deterministic Policy Gradiant.\n",
    "\n",
    "    Params\n",
    "    ======\n",
    "        n_episodes (int): maximum number of training episodes\n",
    "        max_t (int): maximum number of timesteps per episode\n",
    "    \"\"\"\n",
    "    scores_window = deque(maxlen=100)  # last 100 scores\n",
    "    scores_output = []\n",
    "\n",
    "    for i_episode in range(1, n_episodes+1):\n",
    "        env_info = env.reset(train_mode=True)[brain_name]\n",
    "        states = env_info.vector_observations\n",
    "        agents.reset()\n",
    "        scores = np.zeros(num_agents) # initialize all the agents' scores to 0\n",
    "\n",
    "        for t in range(max_t):\n",
    "            actions = agents.act(states)  # select an action\n",
    "            env_info = env.step(actions)[brain_name]  # send the action to env\n",
    "            next_states = env_info.vector_observations  # get the next state\n",
    "            rewards = env_info.rewards  # get the reward\n",
    "            done = env_info.local_done  # see if episode has finished\n",
    "            agents.step(states, actions, rewards, next_states, done)\n",
    "            states = next_states\n",
    "            scores += rewards\n",
    "            if np.any(done):\n",
    "                break\n",
    "\n",
    "        max_score = np.max(scores)\n",
    "        scores_window.append(max_score)    # save maximum score among the agents\n",
    "        scores_output.append(max_score)    # save maximum score among the agents\n",
    "        avg_score = np.mean(scores_window) # retrieve the agents' avg score\n",
    "\n",
    "        print('\\rEpisode {}\\tAverage Score: {:.2f}'.format(i_episode, np.mean(scores_window)), end=\"\")\n",
    "        if i_episode % 100 == 0:\n",
    "            print('\\rEpisode {}\\tAverage Score: {:.2f}'.format(i_episode, np.mean(scores_window)))\n",
    "        if avg_score >= 0.5:\n",
    "            print('\\nEnvironment solved in {:d} episodes!\\tAverage Score: {:.2f}'.format(i_episode, np.mean(scores_window)))\n",
    "            for agent in agents.agents:\n",
    "                actor = agent.actor_local.state_dict()\n",
    "                critic = agent.critic_local.state_dict()\n",
    "                id = agent.agent_id\n",
    "                torch.save(actor, f'checkpoint_a{id}_actor.pth')\n",
    "                torch.save(critic, f'checkpoint_a{id}_critic.pth')\n",
    "            break\n",
    "\n",
    "    return scores_output"
   ]
  },
  {
   "cell_type": "markdown",
   "metadata": {},
   "source": [
    "### 6. Execution"
   ]
  },
  {
   "cell_type": "code",
   "execution_count": 8,
   "metadata": {},
   "outputs": [
    {
     "name": "stdout",
     "output_type": "stream",
     "text": [
      "Episode 100\tAverage Score: 0.00\n",
      "Episode 200\tAverage Score: 0.00\n",
      "Episode 300\tAverage Score: 0.00\n",
      "Episode 400\tAverage Score: 0.01\n",
      "Episode 500\tAverage Score: 0.05\n",
      "Episode 600\tAverage Score: 0.08\n",
      "Episode 700\tAverage Score: 0.08\n",
      "Episode 800\tAverage Score: 0.11\n",
      "Episode 900\tAverage Score: 0.13\n",
      "Episode 1000\tAverage Score: 0.15\n",
      "Episode 1100\tAverage Score: 0.15\n",
      "Episode 1200\tAverage Score: 0.15\n",
      "Episode 1300\tAverage Score: 0.19\n",
      "Episode 1400\tAverage Score: 0.19\n",
      "Episode 1500\tAverage Score: 0.16\n",
      "Episode 1600\tAverage Score: 0.26\n",
      "Episode 1700\tAverage Score: 0.35\n",
      "Episode 1800\tAverage Score: 0.31\n",
      "Episode 1900\tAverage Score: 0.29\n",
      "Episode 2000\tAverage Score: 0.43\n",
      "Episode 2100\tAverage Score: 0.38\n",
      "Episode 2200\tAverage Score: 0.46\n",
      "Episode 2212\tAverage Score: 0.51\n",
      "Environment solved in 2212 episodes!\tAverage Score: 0.51\n"
     ]
    }
   ],
   "source": [
    "scores = train(n_episodes=2500)"
   ]
  },
  {
   "cell_type": "markdown",
   "metadata": {},
   "source": [
    "### 7. Plot of Rewards\n",
    "***Number of Eps:*** 2212"
   ]
  },
  {
   "cell_type": "code",
   "execution_count": 9,
   "metadata": {},
   "outputs": [
    {
     "data": {
      "image/png": "[encoded data removed]",
      "text/plain": [
       "<Figure size 432x288 with 1 Axes>"
      ]
     },
     "metadata": {
      "needs_background": "light"
     },
     "output_type": "display_data"
    }
   ],
   "source": [
    "# plot the scores\n",
    "fig = plt.figure()\n",
    "ax = fig.add_subplot(111)\n",
    "plt.plot(np.arange(len(scores)), scores)\n",
    "plt.plot(np.arange(len(scores)), pd.DataFrame(scores).rolling(20).mean())\n",
    "plt.ylabel('Score')\n",
    "plt.xlabel('Episode #')\n",
    "plt.show()"
   ]
  },
  {
   "cell_type": "markdown",
   "metadata": {},
   "source": [
    "### 8. Ideas for Future Work\n",
    "***Performance Improvement:***\n",
    "\n",
    "1) ***Prioritized Experienced Replay***: As explained in my Navigation project, this allows my model to learn from more \"important\" experiences more frequently. Importance in terms of the absolute TD Error. Improvement on more \"important\" experiences allows for faster gradient descent off the cost function, or faster increase of the score. Experience prioritization is something I am still currently missing.\n",
    "\n",
    "2) ***Update Amount***: I think the model can converge in less episode if it learns multiple times each step. However, the trade-off is that each n-step learning interval will be slower per increment of update amount.\n",
    "\n",
    "3) ***Learning Rate***: I have intentionally set the learning rate low in order for the model to slowly yet steadily train. I can further try to tweak to rates higher, but from my experience, it leads to more inconsistent results.\n",
    "\n",
    "4) ***MAD4PG***: As explained Continuous Control project, Distributed Distributional Deep Deterministic Policy Gradient (D4PG) apparently improves upon DDPG in terms of coping with more complicated continuous environments, including this one. I assume that that also applies to MAD4PG comparison with MADDPG.\n",
    "\n",
    "5) ***PPO/TRPO***: Using the following policy-only models can potentially provide more robust performance due to their sampling efficiency and use of penalities. Could possibly use PPO or TRPO that as an Actor rather than DQN. *Source*: https://medium.com/@sanketgujar95/trust-region-policy-optimization-trpo-and-proximal-policy-optimization-ppo-e6e7075f39ed\n",
    "\n",
    "6) ***GPU Cluster***: I am currently running it on my own CPU laptop, which is painfully slow. I should try to run it on a GPU Cluster (i.e. cloud) in order to do training in-parallel. There is where I can experiment with asynchronous models, such as A3C. \n",
    "\n",
    "7) ***Soccer***: As future work, I can test the above Performance Improvement ideas with the Soccer project, which has more agents to manage. "
   ]
  }
 ],
 "metadata": {
  "kernelspec": {
   "display_name": "drlnd",
   "language": "python",
   "name": "drlnd"
  },
  "language_info": {
   "codemirror_mode": {
    "name": "ipython",
    "version": 3
   },
   "file_extension": ".py",
   "mimetype": "text/x-python",
   "name": "python",
   "nbconvert_exporter": "python",
   "pygments_lexer": "ipython3",
   "version": "3.6.9"
  }
 },
 "nbformat": 4,
 "nbformat_minor": 2
}
